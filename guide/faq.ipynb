{
 "cells": [
  {
   "cell_type": "markdown",
   "metadata": {},
   "source": [
    "# FAQ\n",
    "\n",
    "Frequently Asked Questions (FAQ)."
   ]
  },
  {
   "cell_type": "markdown",
   "metadata": {},
   "source": [
    "## Predict is slow\n",
    "\n",
    "Check whether your installation of PyTorch can access CUDA for GPU processing.\n",
    "If the output of the command below is False, then PyTorch cannot make use of your GPU and OpenPifPaf falls back to CPU processing."
   ]
  },
  {
   "cell_type": "code",
   "execution_count": null,
   "metadata": {},
   "outputs": [],
   "source": [
    "!python -c \"import torch; print(torch.cuda.is_available())\""
   ]
  },
  {
   "cell_type": "markdown",
   "metadata": {},
   "source": [
    "You can also run `predict` with the `--debug` option. Compare your output with the output in {doc}`predict_cli` to understand which part of the process is slow for you. For a fair comparison, also use `--disable-cuda` because the reference in this documentation is created without CUDA."
   ]
  },
  {
   "cell_type": "code",
   "execution_count": null,
   "metadata": {},
   "outputs": [],
   "source": []
  }
 ],
 "metadata": {
  "kernelspec": {
   "display_name": "Python 3.7.4 64-bit ('venv3': venv)",
   "name": "python37464bitvenv3venve864f70b47a24f709eace0523e013bb0"
  },
  "language_info": {
   "codemirror_mode": {
    "name": "ipython",
    "version": 3
   },
   "file_extension": ".py",
   "mimetype": "text/x-python",
   "name": "python",
   "nbconvert_exporter": "python",
   "pygments_lexer": "ipython3",
   "version": "3.7.4-final"
  }
 },
 "nbformat": 4,
 "nbformat_minor": 2
}
