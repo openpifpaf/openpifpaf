{
 "cells": [
  {
   "source": [
    "# Car Keypoints\n",
    "\n",
    " <div style=\"text-align: right\"> by <a href=\"https://scholar.google.com/citations?user=f-4YHeMAAAAJ&hl=en\">Lorenzo Bertoni </a> and Duncan Zauss, 13/04/2021 </div> <br /> \n",
    "\n",
    "\n",
    "\n",
    "This section describes the [OpenPifPaf](https://github.com/openpifpaf/openpifpaf) plugin for vehicles. The plugin uses the [ApolloCar3D Dataset](http://apolloscape.auto/car_instance.html). For more information, we suggest to check our latest [paper](https://arxiv.org/abs/2103.02440): <br /> \n",
    "\n",
    "> __OpenPifPaf: Composite Fields for Semantic Keypoint Detection and Spatio-Temporal Association__<br />\n",
    "> _[Sven Kreiss](https://www.svenkreiss.com), [Lorenzo Bertoni](https://scholar.google.com/citations?user=f-4YHeMAAAAJ&hl=en), [Alexandre Alahi](https://scholar.google.com/citations?user=UIhXQ64AAAAJ&hl=en)_, 2021.\n",
    ">\n",
    "\n",
    "## Setup\n",
    "\n",
    "```sh\n",
    "pip3 install openpifpaf\n",
    "```\n",
    "\n",
    "(in case CUDA 9 as driver: \n",
    "` pip install torch==1.7.0+cu92 torchvision==0.8.1+cu92 -f https://download.pytorch.org/whl/torch_stable.html`)\n",
    "\n",
    "## Predict \n",
    "Prediction runs as standard openpifpaf predict command, but using the pretrained model on vehicles. The flag \"--checkpoint shufflenetv2k16-apollo-24\" will cause that our 24 kp version of the Shufflenet 16 (AP 76.1%) will be automatically downloaded. As an example, run the command:\n",
    "\n",
    "```sh\n",
    "python -m openpifpaf.predict \\\n",
    "<image path> \\\n",
    "--checkpoint shufflenetv2k16-apollo-24 -o \\\n",
    "--instance-threshold 0.07 --seed-threshold 0.07 \\\n",
    "--line-width 3 --font-size 0 --white-overlay 0.6 \n",
    "```\n",
    "\n",
    "## Preprocess Dataset\n",
    "### Keypoints choice\n",
    "The preprocessing step converts the annotations into the standard COCO format. It creates a version with all 66 keypoints and also creates a sparsified version with 24 keypoints. The resulting pose can be obtained running:"
   ],
   "cell_type": "markdown",
   "metadata": {
    "collapsed": true
   }
  },
  {
   "cell_type": "code",
   "execution_count": 3,
   "metadata": {},
   "outputs": [
    {
     "output_type": "stream",
     "name": "stderr",
     "text": [
      "Traceback (most recent call last):\n  File \"/Library/Frameworks/Python.framework/Versions/3.7/lib/python3.7/runpy.py\", line 183, in _run_module_as_main\n    mod_name, mod_spec, code = _get_module_details(mod_name, _Error)\n  File \"/Library/Frameworks/Python.framework/Versions/3.7/lib/python3.7/runpy.py\", line 109, in _get_module_details\n    __import__(pkg_name)\n  File \"/Users/lorenzo/python/vita/openpifpaf/openpifpaf/__init__.py\", line 10, in <module>\n    from . import decoder\n  File \"/Users/lorenzo/python/vita/openpifpaf/openpifpaf/decoder/__init__.py\", line 3, in <module>\n    from . import utils\n  File \"/Users/lorenzo/python/vita/openpifpaf/openpifpaf/decoder/utils/__init__.py\", line 3, in <module>\n    from .cif_hr import CifHr, CifDetHr\n  File \"/Users/lorenzo/python/vita/openpifpaf/openpifpaf/decoder/utils/cif_hr.py\", line 8, in <module>\n    from ... import visualizer\n  File \"/Users/lorenzo/python/vita/openpifpaf/openpifpaf/visualizer/__init__.py\", line 3, in <module>\n    from .base import Base\n  File \"/Users/lorenzo/python/vita/openpifpaf/openpifpaf/visualizer/base.py\", line 7, in <module>\n    from .. import annotation, show\n  File \"/Users/lorenzo/python/vita/openpifpaf/openpifpaf/show/__init__.py\", line 4, in <module>\n    from .canvas import Canvas, canvas, image_canvas, white_screen\n  File \"/Users/lorenzo/python/vita/openpifpaf/openpifpaf/show/canvas.py\", line 11, in <module>\n    raise err\n  File \"/Users/lorenzo/python/vita/openpifpaf/openpifpaf/show/canvas.py\", line 8, in <module>\n    import matplotlib.pyplot as plt  # pylint: disable=import-error\n  File \"/Users/lorenzo/.virtualenvs/guide/lib/python3.7/site-packages/matplotlib/pyplot.py\", line 2469, in <module>\n    switch_backend(rcParams[\"backend\"])\n  File \"/Users/lorenzo/.virtualenvs/guide/lib/python3.7/site-packages/matplotlib/pyplot.py\", line 277, in switch_backend\n    class backend_mod(matplotlib.backend_bases._Backend):\n  File \"/Users/lorenzo/.virtualenvs/guide/lib/python3.7/site-packages/matplotlib/pyplot.py\", line 278, in backend_mod\n    locals().update(vars(importlib.import_module(backend_name)))\n  File \"/Library/Frameworks/Python.framework/Versions/3.7/lib/python3.7/importlib/__init__.py\", line 127, in import_module\n    return _bootstrap._gcd_import(name[level:], package, level)\nModuleNotFoundError: No module named 'itermplot'\n"
     ]
    },
    {
     "output_type": "error",
     "ename": "CalledProcessError",
     "evalue": "Command 'b'python -m openpifpaf.plugins.apollocar3d.apollocar3d.constants\\n'' returned non-zero exit status 1.",
     "traceback": [
      "\u001b[0;31m---------------------------------------------------------------------------\u001b[0m",
      "\u001b[0;31mCalledProcessError\u001b[0m                        Traceback (most recent call last)",
      "\u001b[0;32m<ipython-input-3-b43a6a45a390>\u001b[0m in \u001b[0;36m<module>\u001b[0;34m\u001b[0m\n\u001b[0;32m----> 1\u001b[0;31m \u001b[0mget_ipython\u001b[0m\u001b[0;34m(\u001b[0m\u001b[0;34m)\u001b[0m\u001b[0;34m.\u001b[0m\u001b[0mrun_cell_magic\u001b[0m\u001b[0;34m(\u001b[0m\u001b[0;34m'bash'\u001b[0m\u001b[0;34m,\u001b[0m \u001b[0;34m''\u001b[0m\u001b[0;34m,\u001b[0m \u001b[0;34m'python -m openpifpaf.plugins.apollocar3d.apollocar3d.constants\\n'\u001b[0m\u001b[0;34m)\u001b[0m\u001b[0;34m\u001b[0m\u001b[0;34m\u001b[0m\u001b[0m\n\u001b[0m",
      "\u001b[0;32m~/.virtualenvs/guide/lib/python3.7/site-packages/IPython/core/interactiveshell.py\u001b[0m in \u001b[0;36mrun_cell_magic\u001b[0;34m(self, magic_name, line, cell)\u001b[0m\n\u001b[1;32m   2397\u001b[0m             \u001b[0;32mwith\u001b[0m \u001b[0mself\u001b[0m\u001b[0;34m.\u001b[0m\u001b[0mbuiltin_trap\u001b[0m\u001b[0;34m:\u001b[0m\u001b[0;34m\u001b[0m\u001b[0;34m\u001b[0m\u001b[0m\n\u001b[1;32m   2398\u001b[0m                 \u001b[0margs\u001b[0m \u001b[0;34m=\u001b[0m \u001b[0;34m(\u001b[0m\u001b[0mmagic_arg_s\u001b[0m\u001b[0;34m,\u001b[0m \u001b[0mcell\u001b[0m\u001b[0;34m)\u001b[0m\u001b[0;34m\u001b[0m\u001b[0;34m\u001b[0m\u001b[0m\n\u001b[0;32m-> 2399\u001b[0;31m                 \u001b[0mresult\u001b[0m \u001b[0;34m=\u001b[0m \u001b[0mfn\u001b[0m\u001b[0;34m(\u001b[0m\u001b[0;34m*\u001b[0m\u001b[0margs\u001b[0m\u001b[0;34m,\u001b[0m \u001b[0;34m**\u001b[0m\u001b[0mkwargs\u001b[0m\u001b[0;34m)\u001b[0m\u001b[0;34m\u001b[0m\u001b[0;34m\u001b[0m\u001b[0m\n\u001b[0m\u001b[1;32m   2400\u001b[0m             \u001b[0;32mreturn\u001b[0m \u001b[0mresult\u001b[0m\u001b[0;34m\u001b[0m\u001b[0;34m\u001b[0m\u001b[0m\n\u001b[1;32m   2401\u001b[0m \u001b[0;34m\u001b[0m\u001b[0m\n",
      "\u001b[0;32m~/.virtualenvs/guide/lib/python3.7/site-packages/IPython/core/magics/script.py\u001b[0m in \u001b[0;36mnamed_script_magic\u001b[0;34m(line, cell)\u001b[0m\n\u001b[1;32m    140\u001b[0m             \u001b[0;32melse\u001b[0m\u001b[0;34m:\u001b[0m\u001b[0;34m\u001b[0m\u001b[0;34m\u001b[0m\u001b[0m\n\u001b[1;32m    141\u001b[0m                 \u001b[0mline\u001b[0m \u001b[0;34m=\u001b[0m \u001b[0mscript\u001b[0m\u001b[0;34m\u001b[0m\u001b[0;34m\u001b[0m\u001b[0m\n\u001b[0;32m--> 142\u001b[0;31m             \u001b[0;32mreturn\u001b[0m \u001b[0mself\u001b[0m\u001b[0;34m.\u001b[0m\u001b[0mshebang\u001b[0m\u001b[0;34m(\u001b[0m\u001b[0mline\u001b[0m\u001b[0;34m,\u001b[0m \u001b[0mcell\u001b[0m\u001b[0;34m)\u001b[0m\u001b[0;34m\u001b[0m\u001b[0;34m\u001b[0m\u001b[0m\n\u001b[0m\u001b[1;32m    143\u001b[0m \u001b[0;34m\u001b[0m\u001b[0m\n\u001b[1;32m    144\u001b[0m         \u001b[0;31m# write a basic docstring:\u001b[0m\u001b[0;34m\u001b[0m\u001b[0;34m\u001b[0m\u001b[0;34m\u001b[0m\u001b[0m\n",
      "\u001b[0;32m<decorator-gen-103>\u001b[0m in \u001b[0;36mshebang\u001b[0;34m(self, line, cell)\u001b[0m\n",
      "\u001b[0;32m~/.virtualenvs/guide/lib/python3.7/site-packages/IPython/core/magic.py\u001b[0m in \u001b[0;36m<lambda>\u001b[0;34m(f, *a, **k)\u001b[0m\n\u001b[1;32m    185\u001b[0m     \u001b[0;31m# but it's overkill for just that one bit of state.\u001b[0m\u001b[0;34m\u001b[0m\u001b[0;34m\u001b[0m\u001b[0;34m\u001b[0m\u001b[0m\n\u001b[1;32m    186\u001b[0m     \u001b[0;32mdef\u001b[0m \u001b[0mmagic_deco\u001b[0m\u001b[0;34m(\u001b[0m\u001b[0marg\u001b[0m\u001b[0;34m)\u001b[0m\u001b[0;34m:\u001b[0m\u001b[0;34m\u001b[0m\u001b[0;34m\u001b[0m\u001b[0m\n\u001b[0;32m--> 187\u001b[0;31m         \u001b[0mcall\u001b[0m \u001b[0;34m=\u001b[0m \u001b[0;32mlambda\u001b[0m \u001b[0mf\u001b[0m\u001b[0;34m,\u001b[0m \u001b[0;34m*\u001b[0m\u001b[0ma\u001b[0m\u001b[0;34m,\u001b[0m \u001b[0;34m**\u001b[0m\u001b[0mk\u001b[0m\u001b[0;34m:\u001b[0m \u001b[0mf\u001b[0m\u001b[0;34m(\u001b[0m\u001b[0;34m*\u001b[0m\u001b[0ma\u001b[0m\u001b[0;34m,\u001b[0m \u001b[0;34m**\u001b[0m\u001b[0mk\u001b[0m\u001b[0;34m)\u001b[0m\u001b[0;34m\u001b[0m\u001b[0;34m\u001b[0m\u001b[0m\n\u001b[0m\u001b[1;32m    188\u001b[0m \u001b[0;34m\u001b[0m\u001b[0m\n\u001b[1;32m    189\u001b[0m         \u001b[0;32mif\u001b[0m \u001b[0mcallable\u001b[0m\u001b[0;34m(\u001b[0m\u001b[0marg\u001b[0m\u001b[0;34m)\u001b[0m\u001b[0;34m:\u001b[0m\u001b[0;34m\u001b[0m\u001b[0;34m\u001b[0m\u001b[0m\n",
      "\u001b[0;32m~/.virtualenvs/guide/lib/python3.7/site-packages/IPython/core/magics/script.py\u001b[0m in \u001b[0;36mshebang\u001b[0;34m(self, line, cell)\u001b[0m\n\u001b[1;32m    243\u001b[0m             \u001b[0msys\u001b[0m\u001b[0;34m.\u001b[0m\u001b[0mstderr\u001b[0m\u001b[0;34m.\u001b[0m\u001b[0mflush\u001b[0m\u001b[0;34m(\u001b[0m\u001b[0;34m)\u001b[0m\u001b[0;34m\u001b[0m\u001b[0;34m\u001b[0m\u001b[0m\n\u001b[1;32m    244\u001b[0m         \u001b[0;32mif\u001b[0m \u001b[0margs\u001b[0m\u001b[0;34m.\u001b[0m\u001b[0mraise_error\u001b[0m \u001b[0;32mand\u001b[0m \u001b[0mp\u001b[0m\u001b[0;34m.\u001b[0m\u001b[0mreturncode\u001b[0m\u001b[0;34m!=\u001b[0m\u001b[0;36m0\u001b[0m\u001b[0;34m:\u001b[0m\u001b[0;34m\u001b[0m\u001b[0;34m\u001b[0m\u001b[0m\n\u001b[0;32m--> 245\u001b[0;31m             \u001b[0;32mraise\u001b[0m \u001b[0mCalledProcessError\u001b[0m\u001b[0;34m(\u001b[0m\u001b[0mp\u001b[0m\u001b[0;34m.\u001b[0m\u001b[0mreturncode\u001b[0m\u001b[0;34m,\u001b[0m \u001b[0mcell\u001b[0m\u001b[0;34m,\u001b[0m \u001b[0moutput\u001b[0m\u001b[0;34m=\u001b[0m\u001b[0mout\u001b[0m\u001b[0;34m,\u001b[0m \u001b[0mstderr\u001b[0m\u001b[0;34m=\u001b[0m\u001b[0merr\u001b[0m\u001b[0;34m)\u001b[0m\u001b[0;34m\u001b[0m\u001b[0;34m\u001b[0m\u001b[0m\n\u001b[0m\u001b[1;32m    246\u001b[0m \u001b[0;34m\u001b[0m\u001b[0m\n\u001b[1;32m    247\u001b[0m     \u001b[0;32mdef\u001b[0m \u001b[0m_run_script\u001b[0m\u001b[0;34m(\u001b[0m\u001b[0mself\u001b[0m\u001b[0;34m,\u001b[0m \u001b[0mp\u001b[0m\u001b[0;34m,\u001b[0m \u001b[0mcell\u001b[0m\u001b[0;34m,\u001b[0m \u001b[0mto_close\u001b[0m\u001b[0;34m)\u001b[0m\u001b[0;34m:\u001b[0m\u001b[0;34m\u001b[0m\u001b[0;34m\u001b[0m\u001b[0m\n",
      "\u001b[0;31mCalledProcessError\u001b[0m: Command 'b'python -m openpifpaf.plugins.apollocar3d.apollocar3d.constants\\n'' returned non-zero exit status 1."
     ]
    }
   ],
   "source": [
    "%%bash\n",
    "python -m openpifpaf.plugins.apollocar3d.apollocar3d.constants"
   ]
  },
  {
   "source": [
    "\n",
    "### Dataset conversion\n",
    "To convert the original ApolloCar3D annotations into coco format: \n",
    "```sh\n",
    "mkdir data outputs apollo-coco, apollo-coco/images apollo-coco/annotations\n",
    "```\n",
    "\n",
    "then, download and soft link to [ApolloCar3D Dataset](http://apolloscape.auto/car_instance.html) into `data`\n",
    "    \n",
    "```sh\n",
    "pip install pandas\n",
    "pip install opencv-python==4.1.2.30\n",
    "```\n",
    "```sh\n",
    "python -m openpifpaf_apollocar3d.apollo_to_coco\n",
    "```\n",
    "\n",
    "This script will create annotations with 24kps and 66kps simultaneously. The argument `--split_images` copies the original images in the new folders according to the train val split, slowing down the process. No need to use it multiple times.\n",
    "\n",
    "\n",
    "## Train\n",
    "The default is training with 66kps\n",
    "Square-edge 769 (AP 76.1%)\n",
    "\n",
    "```sh\n",
    "python3 -m openpifpaf.train --dataset apollo \\\n",
    "--basenet=shufflenetv2k16 --apollo-square-edge=769 \\\n",
    "--lr=0.00002 --momentum=0.95  --b-scale=5.0 \\\n",
    "--epochs=300 --lr-decay 160 260 --lr-decay-epochs=10  --weight-decay=1e-5 \\\n",
    "--weight-decay=1e-5  --val-interval 10 --loader-workers 16 --apollo-upsample 2 \\\n",
    "--apollo-bmin 2 --batch-size 8\n",
    "```\n",
    "\n",
    "For smaller memory GPUs: square-edge 513\n",
    "\n",
    "```sh\n",
    "python3 -m openpifpaf.train --dataset apollo \\\n",
    "--basenet=shufflenetv2k16w --apollo-square-edge=513 \\\n",
    "--lr=0.00001 --momentum=0.98 --b-scale=20.0  --epochs=200 \\\n",
    "--lr-decay 130 140 --lr-decay-epochs=10  --weight-decay=1e-5  --loader-workers 16 \\\n",
    "  --val-interval 10 --batch-size 8 --apollo-upsample 2 --apollo-bmin 5\n",
    "```\n",
    "\n",
    "To train with 24kps you need to use the following command\n",
    "\n",
    "```sh\n",
    "python3 -m openpifpaf.train --dataset apollo \\\n",
    "--basenet=shufflenetv2k16 --apollo-square-edge=769 \\\n",
    "--lr=0.00002 --momentum=0.95  --b-scale=5.0 \\\n",
    "--epochs=300 --lr-decay 160 260 --lr-decay-epochs=10  --weight-decay=1e-5 \\\n",
    "--weight-decay=1e-5  --val-interval 10 --loader-workers 16 --apollo-upsample 2 \\\n",
    "--apollo-bmin 2 --batch-size 8 --apollo-use-24-kps --apollo-val-annotations \\\n",
    "<PathToThe/apollo_keypoints_24_train.json>\n",
    "```\n",
    "\n",
    "## Evaluation\n",
    "With 66 kps, replace shufflenetv2k16-apollo-66 with a path to your own checkpoint, if you want to evaluate on your own model:\n",
    "\n",
    "```sh\n",
    "CUDA_VISIBLE_DEVICES=0,1 python3 -m openpifpaf.eval --dataset=apollo \\\n",
    "--checkpoint shufflenetv2k16-apollo-66 \\\n",
    "--force-complete-pose --seed-threshold=0.01 --instance-threshold=0.01 \\\n",
    "--apollo-eval-long-edge 0\n",
    "```\n",
    "\n",
    "With 24 kps, replace shufflenetv2k16-apollo-24 with a path to your own checkpoint, if you want to evaluate on your own model. Note that also in evaluation flag you need to make sure to set the cli flag for using 24kps only:\n",
    "```\n",
    "CUDA_VISIBLE_DEVICES=0,1 python3 -m openpifpaf.eval --dataset=apollo \\\n",
    "--checkpoint <PathToYourCheckpoint> \\\n",
    "--force-complete-pose --seed-threshold=0.01 --instance-threshold=0.01 \\\n",
    "--apollo-eval-long-edge 0 --apollo-use-24-kps --apollo-val-annotations \\\n",
    "<PathToThe/apollo_keypoints_24_train.json>\n",
    "```\n",
    "\n",
    "## Everything else\n",
    "All pifpaf options and commands still stand, read more in the\n",
    "[OpenPifPaf guide](https://openpifpaf.github.io/openpifpaf/intro.html). If you are interested in training your own dataset, read the section on a [Custom Plugin](https://openpifpaf.github.io/openpifpaf/plugins_custom.html)."
   ],
   "cell_type": "markdown",
   "metadata": {}
  }
 ],
 "metadata": {
  "kernelspec": {
   "name": "python378jvsc74a57bd0d3f6c8b19fb48d4f1364851e4e4810aafc984986e589677c7d7f4418bb1388f3",
   "display_name": "Python 3.7.8 64-bit ('guide': virtualenvwrapper)"
  },
  "language_info": {
   "codemirror_mode": {
    "name": "ipython",
    "version": 2
   },
   "file_extension": ".py",
   "mimetype": "text/x-python",
   "name": "python",
   "nbconvert_exporter": "python",
   "pygments_lexer": "ipython2",
   "version": "3.7.8"
  }
 },
 "nbformat": 4,
 "nbformat_minor": 0
}