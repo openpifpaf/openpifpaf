{
 "cells": [
  {
   "cell_type": "markdown",
   "metadata": {},
   "source": [
    "# Examples\n",
    "\n",
    "Example predictions from the COCO val set.\n",
    "These are the first images with more than five person annotations that were shared with [CC-BY-2.0].\n",
    "These examples are not cherry-picked.\n",
    "\n",
    "All examples are predicted with the fast model `shufflenetv2k16`. <br />\n",
    "For more accurate results, try `--checkpoint=shufflenetv2k30`.\n",
    "\n",
    "The examples below are generated with the shown command which is documented in {doc}`predict_cli`.\n",
    "\n",
    "[CC-BY-2.0]: https://creativecommons.org/licenses/by/2.0/"
   ]
  },
  {
   "cell_type": "code",
   "execution_count": null,
   "metadata": {},
   "outputs": [],
   "source": [
    "!python -m openpifpaf.predict coco/000000188465.jpg --image-output --long-edge=1025"
   ]
  },
  {
   "cell_type": "markdown",
   "metadata": {},
   "source": [
    "![predicted](coco/000000188465.jpg.predictions.png)<br />\n",
    "Image credit: [Photo](https://www.flickr.com/photos/jelonekphotography/4593328722/) by Brian Jelonek shared under [CC-BY-2.0]."
   ]
  },
  {
   "cell_type": "code",
   "execution_count": null,
   "metadata": {},
   "outputs": [],
   "source": [
    "!python -m openpifpaf.predict coco/000000114907.jpg --image-output"
   ]
  },
  {
   "cell_type": "markdown",
   "metadata": {},
   "source": [
    "![predicted](coco/000000114907.jpg.predictions.png)<br />\n",
    "Image credit: [Photo](https://www.flickr.com/photos/fortrucker/7825237468/) by Fort Rucker shared under [CC-BY-2.0]."
   ]
  },
  {
   "cell_type": "code",
   "execution_count": null,
   "metadata": {},
   "outputs": [],
   "source": [
    "!python -m openpifpaf.predict coco/000000147740.jpg --image-output"
   ]
  },
  {
   "cell_type": "markdown",
   "metadata": {},
   "source": [
    "![predicted](coco/000000147740.jpg.predictions.png)<br />\n",
    "Image credit: [Photo](https://www.flickr.com/photos/cumidanciki/8026451116/) by CCFoodTravel.com shared under [CC-BY-2.0]."
   ]
  },
  {
   "cell_type": "code",
   "execution_count": null,
   "metadata": {},
   "outputs": [],
   "source": [
    "!python -m openpifpaf.predict coco/000000541055.jpg --image-output"
   ]
  },
  {
   "cell_type": "markdown",
   "metadata": {},
   "source": [
    "![predicted](coco/000000541055.jpg.predictions.png)<br />\n",
    "Image credit: [Photo](https://www.flickr.com/photos/12407269@N07/3465325303/) by Jarrod Doll shared under [CC-BY-2.0]."
   ]
  },
  {
   "cell_type": "code",
   "execution_count": null,
   "metadata": {},
   "outputs": [],
   "source": []
  }
 ],
 "metadata": {
  "kernelspec": {
   "display_name": "python3",
   "name": "python3"
  },
  "language_info": {
   "codemirror_mode": {
    "name": "ipython",
    "version": 3
   },
   "file_extension": ".py",
   "mimetype": "text/x-python",
   "name": "python",
   "nbconvert_exporter": "python",
   "pygments_lexer": "ipython3",
   "version": "3.7.4-final"
  }
 },
 "nbformat": 4,
 "nbformat_minor": 2
}
