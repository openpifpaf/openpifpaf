{
 "cells": [
  {
   "cell_type": "code",
   "execution_count": null,
   "metadata": {
    "tags": [
     "remove-cell"
    ]
   },
   "outputs": [],
   "source": [
    "import openpifpaf\n",
    "import openpifpaf.encoder"
   ]
  },
  {
   "cell_type": "code",
   "execution_count": null,
   "metadata": {},
   "outputs": [],
   "source": [
    "print(openpifpaf.__doc__)"
   ]
  },
  {
   "cell_type": "markdown",
   "metadata": {},
   "source": [
    "# Modules"
   ]
  },
  {
   "cell_type": "markdown",
   "metadata": {},
   "source": [
    "## Core Classes\n",
    "\n",
    "Before moving to the submodules, OpenPifPaf contains a few classes that are exposed directly under `openpifpaf`.\n",
    "\n",
    "```{eval-rst}\n",
    ".. autoclass:: openpifpaf.Annotation\n",
    "    :members:\n",
    "\n",
    ".. autoclass:: openpifpaf.Configurable\n",
    "    :members:\n",
    "```"
   ]
  },
  {
   "cell_type": "markdown",
   "metadata": {},
   "source": [
    "(api:datasets)=\n",
    "## openpifpaf.datasets"
   ]
  },
  {
   "cell_type": "code",
   "execution_count": null,
   "metadata": {},
   "outputs": [],
   "source": [
    "print(openpifpaf.datasets.__doc__)"
   ]
  },
  {
   "cell_type": "markdown",
   "metadata": {},
   "source": [
    "```{eval-rst}\n",
    ".. autoclass:: openpifpaf.datasets.DataModule\n",
    "    :members:\n",
    "```"
   ]
  },
  {
   "cell_type": "markdown",
   "metadata": {},
   "source": [
    "(api:decoder)=\n",
    "## openpifpaf.decoder"
   ]
  },
  {
   "cell_type": "code",
   "execution_count": null,
   "metadata": {},
   "outputs": [],
   "source": [
    "print(openpifpaf.decoder.__doc__)"
   ]
  },
  {
   "cell_type": "markdown",
   "metadata": {},
   "source": [
    "```{eval-rst}\n",
    ".. autoclass:: openpifpaf.decoder.Decoder\n",
    "    :members:\n",
    "    :special-members: __call__\n",
    "```\n"
   ]
  },
  {
   "cell_type": "markdown",
   "metadata": {},
   "source": [
    "## openpifpaf.encoder"
   ]
  },
  {
   "cell_type": "code",
   "execution_count": null,
   "metadata": {},
   "outputs": [],
   "source": [
    "print(openpifpaf.encoder.__doc__)"
   ]
  },
  {
   "cell_type": "markdown",
   "metadata": {},
   "source": [
    "(api:headmeta)=\n",
    "## openpifpaf.headmeta\n",
    "\n",
    "```{eval-rst}\n",
    ".. autoclass:: openpifpaf.headmeta.Cif\n",
    "    :members:\n",
    "\n",
    ".. autoclass:: openpifpaf.headmeta.Caf\n",
    "    :members:\n",
    "\n",
    ".. autoclass:: openpifpaf.headmeta.CifDet\n",
    "    :members:\n",
    "```"
   ]
  },
  {
   "cell_type": "markdown",
   "metadata": {},
   "source": [
    "## openpifpaf.metric\n",
    "\n",
    "```{eval-rst}\n",
    ".. autoclass:: openpifpaf.metric.Base\n",
    "    :members:\n",
    "```"
   ]
  },
  {
   "cell_type": "markdown",
   "metadata": {},
   "source": [
    "(api:network)=\n",
    "## openpifpaf.network\n",
    "\n",
    "```{eval-rst}\n",
    ".. automodule:: openpifpaf.network\n",
    "    :members:\n",
    "```"
   ]
  },
  {
   "cell_type": "code",
   "execution_count": null,
   "metadata": {},
   "outputs": [],
   "source": []
  },
  {
   "cell_type": "code",
   "execution_count": null,
   "metadata": {},
   "outputs": [],
   "source": [
    "print(openpifpaf.network.__doc__)"
   ]
  },
  {
   "cell_type": "markdown",
   "metadata": {},
   "source": [
    "```{eval-rst}\n",
    ".. autoclass:: openpifpaf.network.BaseNetwork\n",
    "    :members:\n",
    "\n",
    ".. autoclass:: openpifpaf.network.HeadNetwork\n",
    "    :members:\n",
    "```"
   ]
  },
  {
   "cell_type": "markdown",
   "metadata": {},
   "source": [
    "## openpifpaf.show"
   ]
  },
  {
   "cell_type": "code",
   "execution_count": null,
   "metadata": {},
   "outputs": [],
   "source": [
    "print(openpifpaf.show.__doc__)"
   ]
  },
  {
   "cell_type": "markdown",
   "metadata": {},
   "source": [
    "## openpifpaf.transforms\n",
    "\n",
    "```{eval-rst}\n",
    ".. automodule:: openpifpaf.transforms\n",
    "    :members:\n",
    "```"
   ]
  },
  {
   "cell_type": "markdown",
   "metadata": {},
   "source": [
    "## openpifpaf.visualizer\n",
    "\n",
    "```{eval-rst}\n",
    ".. automodule:: openpifpaf.visualizer\n",
    "    :members:\n",
    "```"
   ]
  },
  {
   "cell_type": "code",
   "execution_count": null,
   "metadata": {},
   "outputs": [],
   "source": []
  }
 ],
 "metadata": {
  "kernelspec": {
   "display_name": "Python 3",
   "language": "python",
   "name": "python3"
  },
  "language_info": {
   "name": "python",
   "version": ""
  }
 },
 "nbformat": 4,
 "nbformat_minor": 2
}
