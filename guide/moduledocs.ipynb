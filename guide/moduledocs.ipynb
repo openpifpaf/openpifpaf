{
 "cells": [
  {
   "cell_type": "code",
   "execution_count": null,
   "metadata": {
    "tags": [
     "remove-cell"
    ]
   },
   "outputs": [],
   "source": [
    "import openpifpaf\n",
    "import openpifpaf.encoder"
   ]
  },
  {
   "cell_type": "markdown",
   "metadata": {},
   "source": [
    "# Modules"
   ]
  },
  {
   "cell_type": "markdown",
   "metadata": {},
   "source": [
    "## openpifpaf\n",
    "\n",
    "```{eval-rst}\n",
    ".. automodule:: openpifpaf\n",
    "```\n",
    "\n",
    "```{eval-rst}\n",
    ".. autoclass:: openpifpaf.Annotation\n",
    "    :members:\n",
    "\n",
    ".. autoclass:: openpifpaf.Configurable\n",
    "    :members:\n",
    "\n",
    ".. autoclass:: openpifpaf.Predictor \n",
    "    :members:\n",
    "```\n"
   ]
  },
  {
   "cell_type": "markdown",
   "metadata": {},
   "source": [
    "(api:datasets)=\n",
    "## openpifpaf.datasets\n",
    "\n",
    "```{eval-rst}\n",
    ".. automodule:: openpifpaf.datasets\n",
    "    :members:\n",
    "```\n",
    "\n",
    "```{eval-rst}\n",
    ".. autoclass:: openpifpaf.datasets.DataModule\n",
    "    :members:\n",
    "```\n"
   ]
  },
  {
   "cell_type": "markdown",
   "metadata": {},
   "source": [
    "(api:decoder)=\n",
    "## openpifpaf.decoder\n",
    "\n",
    "```{eval-rst}\n",
    ".. automodule:: openpifpaf.decoder\n",
    "    :members:\n",
    "```\n",
    "\n",
    "```{eval-rst}\n",
    ".. autoclass:: openpifpaf.decoder.Decoder\n",
    "    :members:\n",
    "    :special-members: __call__\n",
    "```\n"
   ]
  },
  {
   "cell_type": "markdown",
   "metadata": {},
   "source": [
    "## openpifpaf.encoder\n",
    "\n",
    "```{eval-rst}\n",
    ".. automodule:: openpifpaf.encoder\n",
    "    :members:\n",
    "```"
   ]
  },
  {
   "cell_type": "markdown",
   "metadata": {},
   "source": [
    "(api:headmeta)=\n",
    "## openpifpaf.headmeta\n",
    "\n",
    "```{eval-rst}\n",
    ".. automodule:: openpifpaf.headmeta\n",
    "    :members:\n",
    "```"
   ]
  },
  {
   "cell_type": "markdown",
   "metadata": {},
   "source": [
    "## openpifpaf.metric\n",
    "\n",
    "```{eval-rst}\n",
    ".. autoclass:: openpifpaf.metric.Base\n",
    "    :members:\n",
    "```"
   ]
  },
  {
   "cell_type": "markdown",
   "metadata": {},
   "source": [
    "(api:network)=\n",
    "## openpifpaf.network\n",
    "\n",
    "```{eval-rst}\n",
    ".. automodule:: openpifpaf.network\n",
    "    :members:\n",
    "```"
   ]
  },
  {
   "cell_type": "markdown",
   "metadata": {},
   "source": [
    "```{eval-rst}\n",
    ".. autoclass:: openpifpaf.network.BaseNetwork\n",
    "    :members:\n",
    "\n",
    ".. autoclass:: openpifpaf.network.HeadNetwork\n",
    "    :members:\n",
    "```"
   ]
  },
  {
   "cell_type": "markdown",
   "metadata": {},
   "source": [
    "## openpifpaf.show\n",
    "\n",
    "```{eval-rst}\n",
    ".. automodule:: openpifpaf.show\n",
    "    :members:\n",
    "```"
   ]
  },
  {
   "cell_type": "markdown",
   "metadata": {},
   "source": [
    "## openpifpaf.transforms\n",
    "\n",
    "```{eval-rst}\n",
    ".. automodule:: openpifpaf.transforms\n",
    "    :members:\n",
    "```"
   ]
  },
  {
   "cell_type": "markdown",
   "metadata": {},
   "source": [
    "## openpifpaf.visualizer\n",
    "\n",
    "```{eval-rst}\n",
    ".. automodule:: openpifpaf.visualizer\n",
    "    :members:\n",
    "```"
   ]
  },
  {
   "cell_type": "code",
   "execution_count": null,
   "metadata": {},
   "outputs": [],
   "source": []
  }
 ],
 "metadata": {
  "kernelspec": {
   "display_name": "Python 3",
   "language": "python",
   "name": "python3"
  },
  "language_info": {
   "name": "python",
   "version": ""
  }
 },
 "nbformat": 4,
 "nbformat_minor": 2
}
