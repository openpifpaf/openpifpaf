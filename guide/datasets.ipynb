{
 "cells": [
  {
   "cell_type": "markdown",
   "metadata": {},
   "source": [
    "[Sven Kreiss](https://www.svenkreiss.com/), 2020\n",
    "\n",
    "# Datasets\n",
    "\n",
    "Download MSCOCO data:\n",
    "\n",
    "```sh\n",
    "mkdir data-mscoco\n",
    "cd data-mscoco\n",
    "gsutil ls gs://images.cocodataset.org  # to list available directories\n",
    "\n",
    "mkdir -p images/val2017\n",
    "gsutil -m rsync gs://images.cocodataset.org/val2017 images/val2017\n",
    "\n",
    "mkdir -p images/train2017\n",
    "gsutil -m rsync gs://images.cocodataset.org/train2017 images/train2017\n",
    "\n",
    "gsutil cp gs://images.cocodataset.org/annotations/annotations_trainval2017.zip .\n",
    "# or\n",
    "wget http://images.cocodataset.org/annotations/annotations_trainval2017.zip\n",
    "unzip annotations_trainval2017.zip\n",
    "wget http://images.cocodataset.org/annotations/image_info_test2017.zip\n",
    "unzip image_info_test2017.zip\n",
    "\n",
    "# test images: run inside of images directory\n",
    "wget http://images.cocodataset.org/zips/test2017.zip\n",
    "unzip test2017.zip\n",
    "```\n",
    "\n",
    "Download MPII data:\n",
    "\n",
    "```sh\n",
    "mkdir data-mpii\n",
    "cd data-mpii\n",
    "wget https://datasets.d2.mpi-inf.mpg.de/andriluka14cvpr/mpii_human_pose_v1.tar.gz\n",
    "wget https://datasets.d2.mpi-inf.mpg.de/andriluka14cvpr/mpii_human_pose_v1_u12_2.zip\n",
    "```\n",
    "\n",
    "\n",
    "Download NightOwls:\n",
    "\n",
    "```sh\n",
    "mkdir data-nightowls\n",
    "cd data-nightowls\n",
    "wget http://www.robots.ox.ac.uk/\\~vgg/data/nightowls/python/nightowls_validation.json\n",
    "wget http://www.robots.ox.ac.uk/\\~vgg/data/nightowls/python/nightowls_validation.zip\n",
    "unzip nightowls_validation.zip\n",
    "```\n"
   ]
  },
  {
   "cell_type": "markdown",
   "metadata": {},
   "source": [
    "## COCO Person Skeletons\n",
    "\n",
    "COCO / kinematic tree / dense:\n",
    "\n",
    "```{image} ../docs/skeleton_coco.png\n",
    ":height: \"250\"\n",
    "```\n",
    "```{image} ../docs/skeleton_kinematic_tree.png\n",
    ":height: \"250\"\n",
    "```\n",
    "```{image} ../docs/skeleton_dense.png\n",
    ":height: \"250\"\n",
    "```\n",
    "\n",
    "Created with `python3 -m openpifpaf.datasets.constants`."
   ]
  },
  {
   "cell_type": "markdown",
   "metadata": {},
   "source": [
    "## COCO Person Keypoints"
   ]
  },
  {
   "cell_type": "code",
   "execution_count": null,
   "metadata": {},
   "outputs": [],
   "source": [
    "import openpifpaf\n",
    "for i, name in enumerate(openpifpaf.datasets.constants.COCO_KEYPOINTS):\n",
    "    print(i, name)"
   ]
  },
  {
   "cell_type": "code",
   "execution_count": null,
   "metadata": {},
   "outputs": [],
   "source": [
    "print('associations')\n",
    "kp_names = openpifpaf.datasets.constants.COCO_KEYPOINTS\n",
    "for i, (joint1, joint2) in enumerate(openpifpaf.datasets.constants.COCO_PERSON_SKELETON):\n",
    "    print('{:2d}: {:15s} --> {}'.format(i, kp_names[joint1 - 1], kp_names[joint2 - 1]))"
   ]
  },
  {
   "cell_type": "code",
   "execution_count": null,
   "metadata": {},
   "outputs": [],
   "source": []
  }
 ],
 "metadata": {
  "kernelspec": {
   "display_name": "Python 3.7.4 64-bit ('venv3': venv)",
   "name": "python37464bitvenv3venve864f70b47a24f709eace0523e013bb0"
  },
  "language_info": {
   "codemirror_mode": {
    "name": "ipython",
    "version": 3
   },
   "file_extension": ".py",
   "mimetype": "text/x-python",
   "name": "python",
   "nbconvert_exporter": "python",
   "pygments_lexer": "ipython3",
   "version": "3.7.4-final"
  }
 },
 "nbformat": 4,
 "nbformat_minor": 2
}
